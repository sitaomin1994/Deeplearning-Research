{
 "cells": [
  {
   "cell_type": "markdown",
   "metadata": {},
   "source": [
    "## Import FashionMnist Dataset"
   ]
  },
  {
   "cell_type": "code",
   "execution_count": 1,
   "metadata": {},
   "outputs": [],
   "source": [
    "import torch \n",
    "import torchvision\n",
    "import torchvision.transforms as transforms\n",
    "import torch.nn as nn\n",
    "import torch.nn.functional as F\n",
    "from torch.autograd import Variable\n",
    "import torch.utils.data as Dataset\n",
    "import matplotlib.pyplot as plt\n",
    "import numpy as np\n",
    "import pandas as pd\n",
    "import math\n",
    "\n",
    "class FashionMNIST(torchvision.datasets.MNIST):\n",
    "    '''\n",
    "      Args:\n",
    "        root (string): Root directory of dataset where ``processed/training.pt``\n",
    "            and  ``processed/test.pt`` exist.\n",
    "        train (bool, optional): If True, creates dataset from ``training.pt``,\n",
    "            otherwise from ``test.pt``.\n",
    "        download (bool, optional): If true, downloads the dataset from the internet and\n",
    "            puts it in root directory. If dataset is already downloaded, it is not\n",
    "            downloaded again.\n",
    "        transform (callable, optional): A function/transform that  takes in an PIL image\n",
    "            and returns a transformed version. E.g, ``transforms.RandomCrop``\n",
    "        target_transform (callable, optional): A function/transform that takes in the\n",
    "            target and transforms it.\n",
    "    '''\n",
    "    urls = [\n",
    "        'http://fashion-mnist.s3-website.eu-central-1.amazonaws.com/train-images-idx3-ubyte.gz',\n",
    "        'http://fashion-mnist.s3-website.eu-central-1.amazonaws.com/train-labels-idx1-ubyte.gz',\n",
    "        'http://fashion-mnist.s3-website.eu-central-1.amazonaws.com/t10k-images-idx3-ubyte.gz',\n",
    "        'http://fashion-mnist.s3-website.eu-central-1.amazonaws.com/t10k-labels-idx1-ubyte.gz',\n",
    "    ]\n",
    "\n",
    "train_data = FashionMNIST(\n",
    "    root='./FashionMnist', #保存位置\n",
    "    train=True, #training set\n",
    "    transform=torchvision.transforms.ToTensor(), #converts a PIL.Image to torch.FloatTensor(C*H*W) in range(0.0,1.0)\n",
    "    download=True\n",
    ")\n",
    "test_data = FashionMNIST(\n",
    "    root='./FashionMnist',\n",
    "    train=False,\n",
    "    transform=torchvision.transforms.ToTensor()\n",
    ")"
   ]
  },
  {
   "cell_type": "code",
   "execution_count": 2,
   "metadata": {},
   "outputs": [
    {
     "data": {
      "text/plain": [
       "60000"
      ]
     },
     "execution_count": 2,
     "metadata": {},
     "output_type": "execute_result"
    }
   ],
   "source": [
    "len(train_data)"
   ]
  },
  {
   "cell_type": "markdown",
   "metadata": {},
   "source": [
    "## training process 4-layer MLP "
   ]
  },
  {
   "cell_type": "code",
   "execution_count": 11,
   "metadata": {},
   "outputs": [],
   "source": [
    "from torch.nn.utils import clip_grad_norm\n",
    "from math import ceil\n",
    "import copy\n",
    "\n",
    "\n",
    "# main function\n",
    "def train(batchsize,learning_rate):\n",
    "    torch.manual_seed(123) #reproducible\n",
    "\n",
    "    EPOCH = 200\n",
    "    BATCH_SIZE = batchsize\n",
    "    \n",
    "    # make data iterable\n",
    "    train_loader = torch.utils.data.DataLoader(dataset=train_data, batch_size=BATCH_SIZE, shuffle=True)\n",
    "    test_loader = torch.utils.data.DataLoader(test_data, batch_size=BATCH_SIZE,shuffle=False)\n",
    "    num_iters = EPOCH*len(train_loader)\n",
    "   \n",
    "    distance = np.zeros(EPOCH+1)\n",
    "    covar = np.zeros(EPOCH+1)\n",
    "\n",
    "    # 4-layer batch_normalization MLP neural network model structure\n",
    "    class cnn_model(nn.Module):\n",
    "\n",
    "        def __init__(self):\n",
    "            '''\n",
    "            super(MLP4_model, self).__init__()\n",
    "            self.layers = nn.Sequential(\n",
    "                nn.Linear(28 * 28, 512),\n",
    "                nn.BatchNorm1d(512),\n",
    "                nn.ReLU(True),\n",
    "                nn.Linear(512, 512),\n",
    "                nn.BatchNorm1d(512),\n",
    "                nn.ReLU(True),\n",
    "                nn.Linear(512, 512),\n",
    "                nn.BatchNorm1d(512),\n",
    "                nn.ReLU(True),\n",
    "                nn.Linear(512, 512),\n",
    "                nn.BatchNorm1d(512),\n",
    "                nn.ReLU(True),\n",
    "                nn.Linear(512, 512),\n",
    "                nn.BatchNorm1d(512),\n",
    "                nn.ReLU(True),\n",
    "                nn.Linear(512, 10),\n",
    "            )\n",
    "        def forward(self, inputs):\n",
    "            return self.layers(inputs.view(inputs.size(0), -1))\n",
    "        '''\n",
    "        def __init__(self):\n",
    "            super(cnn_model, self).__init__()\n",
    "            self.fc1 = nn.Linear(28*28,512)\n",
    "            torch.nn.init.normal(self.fc1.weight, mean=0, std=0.03)\n",
    "            #nn.init.xavier_normal(self.fc1.weight,gain = 1)\n",
    "            nn.init.constant(self.fc1.bias, 0.1)\n",
    "        \n",
    "            self.fc2 = nn.Linear(512,10)\n",
    "            torch.nn.init.normal(self.fc2.weight, mean=0, std=0.3)\n",
    "            #nn.init.xavier_normal(self.fc2.weight, gain = 1)\n",
    "            nn.init.constant(self.fc2.bias, 0.1)\n",
    "           # self.out = nn.Linear(10,10)\n",
    "        \n",
    "        def forward(self, x):\n",
    "            x = x.view(-1, 784)\n",
    "            x = F.relu(self.fc1(x))\n",
    "            x = F.softmax(self.fc2(x))\n",
    "            output = x\n",
    "            #output = self.out(x)\n",
    "            return output\n",
    "\n",
    "    #loss function and opimizer    \n",
    "    model = cnn_model()\n",
    "    optimizer = torch.optim.SGD(model.parameters(), lr=learning_rate,weight_decay= 1e-4, momentum=0.9)\n",
    "    loss_func = nn.CrossEntropyLoss()\n",
    "    \n",
    "    #initial weight value\n",
    "    init_weights = [w.data.cpu().clone() for w in list(model.parameters())]\n",
    "    \n",
    "    #train process\n",
    "    for epoch in range(EPOCH):\n",
    "    \n",
    "        #adjust_learning_rate(optimizer,epoch, batchsize)\n",
    "        noise_sum_a = 0.0\n",
    "        \n",
    "        for i, data in enumerate(train_loader,0):\n",
    "            \n",
    "            #get the inputs\n",
    "            inputs, labels = data\n",
    "\n",
    "            #wrap them in Variable\n",
    "            inputs, labels = Variable(inputs), Variable(labels)\n",
    "            \n",
    "            #chunk batch samples into one samples\n",
    "            mini_inputs = inputs.chunk(batchsize // 2)\n",
    "            mini_targets = labels.chunk(batchsize // 2)\n",
    "            \n",
    "            #clean grad to zero\n",
    "            optimizer.zero_grad()\n",
    "            \n",
    "            print(\"done\")\n",
    "            \n",
    "            #compute each sample output by CNN models\n",
    "            batch_params_list = []\n",
    "            \n",
    "            for k, mini_input_var in enumerate(mini_inputs,0):\n",
    "                \n",
    "                mini_target_var = mini_targets[k]\n",
    "                output = model(mini_input_var)\n",
    "                loss = loss_func(output, mini_target_var)\n",
    "                loss.backward()\n",
    "                \n",
    "                params = []\n",
    "                \n",
    "                for param in model.parameters():\n",
    "                    \n",
    "                    temp_param = param.grad.data.clone()\n",
    "                    \n",
    "                    params.append(temp_param)\n",
    "            \n",
    "               # print(params,k)\n",
    "                batch_params_list.append(params)\n",
    "                optimizer.zero_grad()\n",
    "            \n",
    "            #for p, sample_i in enumerate(batch_params_list,0):\n",
    "            #        print(sample_i[2][9][9])\n",
    "            \n",
    "            #calculate covariance\n",
    "            \n",
    "            params = list(model.parameters())\n",
    "            noise = np.zeros(len(params))\n",
    "            \n",
    "            #print(\"%d\",(len(params)))\n",
    "            \n",
    "            for k in range(0,len(params)):\n",
    "                I1 = torch.zeros(params[k].size()[0],params[k].size()[0])\n",
    "                I2 = torch.zeros(params[k].size()[0],params[k].size()[0])\n",
    "                for p, sample_i_params in enumerate(batch_params_list,0):\n",
    "                    for q, sample_j_params in enumerate(batch_params_list,0):\n",
    "                            #print(\"%d %d %d\",i,j,k)\n",
    "                            n = sample_i_params[k].dim()\n",
    "                            if(n == 1):\n",
    "                                temp_i = torch.randn(params[k].size()[0],1)\n",
    "                                temp_j = torch.randn(params[k].size()[0],1)\n",
    "                                for m in range(0,n):\n",
    "                                    temp_i[m] = sample_i_params[k][m]\n",
    "                                    temp_j[m] = sample_j_params[k][m]\n",
    "                                \n",
    "                                if p == q:\n",
    "                                        I1 += temp_i.mm(temp_j.transpose(0,1))\n",
    "                                if p != q:\n",
    "                                        I2 += temp_i.mm(temp_j.transpose(0,1))                              \n",
    "                            else:\n",
    "                                if p==q:\n",
    "                                    I1 += sample_i_params[k].mm(sample_j_params[k].transpose(0,1))\n",
    "                                if p!=q:\n",
    "                                    I2 += sample_i_params[k].mm(sample_j_params[k].transpose(0,1))\n",
    "            \n",
    "                covarience = 1.0/BATCH_SIZE*(1-BATCH_SIZE/len(train_data))*(1.0/len(train_data)*I1-1.0/(len(train_data)*(len(train_data)-1))*I2)\n",
    "                noise[k] = covarience.trace()\n",
    "            \n",
    "            noise_sum = np.sum(noise)\n",
    "            print(noise_sum,i)\n",
    "            \n",
    "            #using CNN compute output\n",
    "            optimizer.zero_grad()\n",
    "            \n",
    "            outputs = model(inputs)\n",
    "            loss = loss_func(outputs, labels)\n",
    "            #optimizer.zero_grad()\n",
    "            loss.backward()\n",
    "            \n",
    "            \n",
    "            clip_grad_norm(model.parameters(), 5.)     # clip grad avoding grad explosion\n",
    "            optimizer.step()\n",
    "            \n",
    "            if i==0 and epoch==0: \n",
    "                step_dist = 0\n",
    "                for k, w in enumerate(model.parameters()):  \n",
    "                    #if k in idxs :    \n",
    "                    step_dist +=  (w.data.cpu() - init_weights[k]).norm()\n",
    "                print('%d %d step_dist:%f covarience:%f'%(i+1,epoch+1,step_dist,noise_sum))\n",
    "                distance[i] = step_dist\n",
    "                covar[i] = noise_sum\n",
    "           \n",
    "            if (i+1)%len(train_loader) ==0:\n",
    "                step_dist = 0\n",
    "                for k, w in enumerate(model.parameters()):  \n",
    "                    #if k in idxs :    \n",
    "                    step_dist +=  (w.data.cpu() - init_weights[k]).norm()\n",
    "                print('%d %d step_dist:%f covarience:%f'%(i+1,epoch+1,step_dist,noise_sum))\n",
    "                distance[epoch+1] = step_dist\n",
    "                covar[i] = noise_sum\n",
    "            \n",
    "    print('Finished Training')\n",
    "    np.save('cor%d.npy'%BATCH_SIZE,distance)\n",
    "    np.save('noise%d.npy'%BATCH_SIZE,covar)"
   ]
  },
  {
   "cell_type": "code",
   "execution_count": 15,
   "metadata": {},
   "outputs": [
    {
     "data": {
      "text/plain": [
       "\n",
       "-1.3166\n",
       "[torch.FloatTensor of size 1]"
      ]
     },
     "execution_count": 15,
     "metadata": {},
     "output_type": "execute_result"
    }
   ],
   "source": [
    "x = torch.randn(2,1)\n",
    "x[0]"
   ]
  },
  {
   "cell_type": "code",
   "execution_count": 77,
   "metadata": {},
   "outputs": [
    {
     "data": {
      "text/plain": [
       "torch.Size([2])"
      ]
     },
     "execution_count": 77,
     "metadata": {},
     "output_type": "execute_result"
    }
   ],
   "source": [
    "x.size()"
   ]
  },
  {
   "cell_type": "code",
   "execution_count": 80,
   "metadata": {},
   "outputs": [
    {
     "data": {
      "text/plain": [
       "\n",
       " 1.1751  1.4597\n",
       "[torch.FloatTensor of size 1x2]"
      ]
     },
     "execution_count": 80,
     "metadata": {},
     "output_type": "execute_result"
    }
   ],
   "source": [
    "y = x.transpose(0,1)\n",
    "y"
   ]
  },
  {
   "cell_type": "code",
   "execution_count": 14,
   "metadata": {},
   "outputs": [
    {
     "name": "stdout",
     "output_type": "stream",
     "text": [
      "done\n"
     ]
    },
    {
     "name": "stderr",
     "output_type": "stream",
     "text": [
      "/Users/apple/anaconda/lib/python3.6/site-packages/ipykernel_launcher.py:64: UserWarning: Implicit dimension choice for softmax has been deprecated. Change the call to include dim=X as an argument.\n"
     ]
    },
    {
     "name": "stdout",
     "output_type": "stream",
     "text": [
      "0.000116704938008 0\n",
      "1 1 step_dist:0.557479 covarience:0.000117\n",
      "done\n",
      "0.0002716063476 1\n",
      "done\n",
      "0.000100127535846 2\n",
      "done\n",
      "1.79537609986e-05 3\n",
      "done\n",
      "5.18633594138e-05 4\n",
      "done\n",
      "4.52730668351e-05 5\n",
      "done\n",
      "4.04824587236e-05 6\n",
      "done\n",
      "1.96375009488e-05 7\n",
      "done\n",
      "3.05036191643e-05 8\n",
      "done\n",
      "9.87710189073e-06 9\n",
      "done\n",
      "3.22974954538e-05 10\n",
      "done\n"
     ]
    },
    {
     "ename": "KeyboardInterrupt",
     "evalue": "",
     "output_type": "error",
     "traceback": [
      "\u001b[0;31m---------------------------------------------------------------------------\u001b[0m",
      "\u001b[0;31mKeyboardInterrupt\u001b[0m                         Traceback (most recent call last)",
      "\u001b[0;32m<ipython-input-14-88a7249d4705>\u001b[0m in \u001b[0;36m<module>\u001b[0;34m()\u001b[0m\n\u001b[1;32m      2\u001b[0m \u001b[0mlearning_rate\u001b[0m \u001b[0;34m=\u001b[0m \u001b[0;34m[\u001b[0m\u001b[0;36m0.5\u001b[0m\u001b[0;34m]\u001b[0m\u001b[0;34m\u001b[0m\u001b[0m\n\u001b[1;32m      3\u001b[0m \u001b[0;32mfor\u001b[0m \u001b[0mi\u001b[0m \u001b[0;32min\u001b[0m \u001b[0mrange\u001b[0m\u001b[0;34m(\u001b[0m\u001b[0;36m0\u001b[0m\u001b[0;34m,\u001b[0m\u001b[0mlen\u001b[0m\u001b[0;34m(\u001b[0m\u001b[0mbatchsize\u001b[0m\u001b[0;34m)\u001b[0m\u001b[0;34m)\u001b[0m\u001b[0;34m:\u001b[0m\u001b[0;34m\u001b[0m\u001b[0m\n\u001b[0;32m----> 4\u001b[0;31m     \u001b[0mtrain\u001b[0m\u001b[0;34m(\u001b[0m\u001b[0mbatchsize\u001b[0m\u001b[0;34m[\u001b[0m\u001b[0mi\u001b[0m\u001b[0;34m]\u001b[0m\u001b[0;34m,\u001b[0m\u001b[0mlearning_rate\u001b[0m\u001b[0;34m[\u001b[0m\u001b[0mi\u001b[0m\u001b[0;34m]\u001b[0m\u001b[0;34m)\u001b[0m\u001b[0;34m\u001b[0m\u001b[0m\n\u001b[0m",
      "\u001b[0;32m<ipython-input-11-75448f577a15>\u001b[0m in \u001b[0;36mtrain\u001b[0;34m(batchsize, learning_rate)\u001b[0m\n\u001b[1;32m    152\u001b[0m                                     \u001b[0mI1\u001b[0m \u001b[0;34m+=\u001b[0m \u001b[0msample_i_params\u001b[0m\u001b[0;34m[\u001b[0m\u001b[0mk\u001b[0m\u001b[0;34m]\u001b[0m\u001b[0;34m.\u001b[0m\u001b[0mmm\u001b[0m\u001b[0;34m(\u001b[0m\u001b[0msample_j_params\u001b[0m\u001b[0;34m[\u001b[0m\u001b[0mk\u001b[0m\u001b[0;34m]\u001b[0m\u001b[0;34m.\u001b[0m\u001b[0mtranspose\u001b[0m\u001b[0;34m(\u001b[0m\u001b[0;36m0\u001b[0m\u001b[0;34m,\u001b[0m\u001b[0;36m1\u001b[0m\u001b[0;34m)\u001b[0m\u001b[0;34m)\u001b[0m\u001b[0;34m\u001b[0m\u001b[0m\n\u001b[1;32m    153\u001b[0m                                 \u001b[0;32mif\u001b[0m \u001b[0mp\u001b[0m\u001b[0;34m!=\u001b[0m\u001b[0mq\u001b[0m\u001b[0;34m:\u001b[0m\u001b[0;34m\u001b[0m\u001b[0m\n\u001b[0;32m--> 154\u001b[0;31m                                     \u001b[0mI2\u001b[0m \u001b[0;34m+=\u001b[0m \u001b[0msample_i_params\u001b[0m\u001b[0;34m[\u001b[0m\u001b[0mk\u001b[0m\u001b[0;34m]\u001b[0m\u001b[0;34m.\u001b[0m\u001b[0mmm\u001b[0m\u001b[0;34m(\u001b[0m\u001b[0msample_j_params\u001b[0m\u001b[0;34m[\u001b[0m\u001b[0mk\u001b[0m\u001b[0;34m]\u001b[0m\u001b[0;34m.\u001b[0m\u001b[0mtranspose\u001b[0m\u001b[0;34m(\u001b[0m\u001b[0;36m0\u001b[0m\u001b[0;34m,\u001b[0m\u001b[0;36m1\u001b[0m\u001b[0;34m)\u001b[0m\u001b[0;34m)\u001b[0m\u001b[0;34m\u001b[0m\u001b[0m\n\u001b[0m\u001b[1;32m    155\u001b[0m \u001b[0;34m\u001b[0m\u001b[0m\n\u001b[1;32m    156\u001b[0m                 \u001b[0mcovarience\u001b[0m \u001b[0;34m=\u001b[0m \u001b[0;36m1.0\u001b[0m\u001b[0;34m/\u001b[0m\u001b[0mBATCH_SIZE\u001b[0m\u001b[0;34m*\u001b[0m\u001b[0;34m(\u001b[0m\u001b[0;36m1\u001b[0m\u001b[0;34m-\u001b[0m\u001b[0mBATCH_SIZE\u001b[0m\u001b[0;34m/\u001b[0m\u001b[0mlen\u001b[0m\u001b[0;34m(\u001b[0m\u001b[0mtrain_data\u001b[0m\u001b[0;34m)\u001b[0m\u001b[0;34m)\u001b[0m\u001b[0;34m*\u001b[0m\u001b[0;34m(\u001b[0m\u001b[0;36m1.0\u001b[0m\u001b[0;34m/\u001b[0m\u001b[0mlen\u001b[0m\u001b[0;34m(\u001b[0m\u001b[0mtrain_data\u001b[0m\u001b[0;34m)\u001b[0m\u001b[0;34m*\u001b[0m\u001b[0mI1\u001b[0m\u001b[0;34m-\u001b[0m\u001b[0;36m1.0\u001b[0m\u001b[0;34m/\u001b[0m\u001b[0;34m(\u001b[0m\u001b[0mlen\u001b[0m\u001b[0;34m(\u001b[0m\u001b[0mtrain_data\u001b[0m\u001b[0;34m)\u001b[0m\u001b[0;34m*\u001b[0m\u001b[0;34m(\u001b[0m\u001b[0mlen\u001b[0m\u001b[0;34m(\u001b[0m\u001b[0mtrain_data\u001b[0m\u001b[0;34m)\u001b[0m\u001b[0;34m-\u001b[0m\u001b[0;36m1\u001b[0m\u001b[0;34m)\u001b[0m\u001b[0;34m)\u001b[0m\u001b[0;34m*\u001b[0m\u001b[0mI2\u001b[0m\u001b[0;34m)\u001b[0m\u001b[0;34m\u001b[0m\u001b[0m\n",
      "\u001b[0;31mKeyboardInterrupt\u001b[0m: "
     ]
    }
   ],
   "source": [
    "batchsize = [256]\n",
    "learning_rate = [0.5]\n",
    "for i in range(0,len(batchsize)):\n",
    "    train(batchsize[i],learning_rate[i])"
   ]
  },
  {
   "cell_type": "code",
   "execution_count": 77,
   "metadata": {},
   "outputs": [
    {
     "name": "stderr",
     "output_type": "stream",
     "text": [
      "D:\\anaconda\\lib\\site-packages\\matplotlib\\__init__.py:1405: UserWarning: \n",
      "This call to matplotlib.use() has no effect because the backend has already\n",
      "been chosen; matplotlib.use() must be called *before* pylab, matplotlib.pyplot,\n",
      "or matplotlib.backends is imported for the first time.\n",
      "\n",
      "  warnings.warn(_use_error_msg)\n"
     ]
    },
    {
     "data": {
      "image/png": "[encoded data removed]",
      "text/plain": [
       "<matplotlib.figure.Figure at 0x1e5bd0100b8>"
      ]
     },
     "metadata": {},
     "output_type": "display_data"
    }
   ],
   "source": [
    "import matplotlib \n",
    "from matplotlib.ticker import  MultipleLocator\n",
    "matplotlib.use('Agg')\n",
    "BATCH_SIZE1 = 128\n",
    "distance64 = np.load('disgbn64.npy')\n",
    "distance128 = np.load('disgbn128.npy')\n",
    "distance256 = np.load('disgbn256.npy')\n",
    "distance512 = np.load('disgbn512.npy')\n",
    "distance1024 = np.load('disgbn1024.npy')\n",
    "distance2048 = np.load('disgbn2048.npy')\n",
    "#distance4096 = np.load('distance4096.npy')\n",
    "x_index64=np.arange(0,50*938+1,938)\n",
    "x_index128=np.arange(0,50*469+1,469)\n",
    "x_index256=np.arange(0,50*235+1,235)\n",
    "x_index512=np.arange(0,50*118+1,118)\n",
    "x_index1024=np.arange(0,50*59+1,59)\n",
    "x_index2048=np.arange(0,50*30+1,30)\n",
    "#x_index4096=np.arange(0,70*15+1,15)\n",
    "\n",
    "fig = plt.figure()\n",
    "plt.title(\"Batch Size\")\n",
    "plt.xlabel('iterations')\n",
    "plt.ylabel('weight distance')\n",
    "plt.plot(x_index64,distance64,label='Batch_size:64')\n",
    "plt.plot(x_index128,distance128,label='Batch_size:128')\n",
    "plt.plot(x_index256,distance256,label='Batch_size:256')\n",
    "plt.plot(x_index512,distance512,label='Batch_size:512')\n",
    "plt.plot(x_index1024,distance1024,label='Batch_size:1024')\n",
    "plt.plot(x_index2048,distance2048,label='Batch_size:2048')\n",
    "#plt.plot(x_index4096,distance4096,label='Batch_size:4096')\n",
    "#plt.axis([-0.1,4,0.0,1.0]) \n",
    "\n",
    "#plt.fill_between(x_index,X1,X3,color = 'red',alpha = '0.1')\n",
    "plt.legend(loc='lower right',framealpha = 0.5)\n",
    "plt.savefig(\"batchsize normal.png\") \n",
    "plt.show()"
   ]
  },
  {
   "cell_type": "code",
   "execution_count": null,
   "metadata": {},
   "outputs": [],
   "source": []
  }
 ],
 "metadata": {
  "kernelspec": {
   "display_name": "Python 3",
   "language": "python",
   "name": "python3"
  },
  "language_info": {
   "codemirror_mode": {
    "name": "ipython",
    "version": 3
   },
   "file_extension": ".py",
   "mimetype": "text/x-python",
   "name": "python",
   "nbconvert_exporter": "python",
   "pygments_lexer": "ipython3",
   "version": "3.6.1"
  },
  "latex_envs": {
   "LaTeX_envs_menu_present": true,
   "autoclose": false,
   "autocomplete": true,
   "bibliofile": "biblio.bib",
   "cite_by": "apalike",
   "current_citInitial": 1,
   "eqLabelWithNumbers": true,
   "eqNumInitial": 1,
   "hotkeys": {
    "equation": "Ctrl-E",
    "itemize": "Ctrl-I"
   },
   "labels_anchors": false,
   "latex_user_defs": false,
   "report_style_numbering": false,
   "user_envs_cfg": false
  },
  "toc": {
   "nav_menu": {},
   "number_sections": true,
   "sideBar": true,
   "skip_h1_title": false,
   "title_cell": "Table of Contents",
   "title_sidebar": "Contents",
   "toc_cell": false,
   "toc_position": {},
   "toc_section_display": true,
   "toc_window_display": false
  }
 },
 "nbformat": 4,
 "nbformat_minor": 2
}
